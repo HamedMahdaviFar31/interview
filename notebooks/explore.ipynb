{
 "cells": [
  {
   "metadata": {
    "ExecuteTime": {
     "end_time": "2025-08-07T00:26:58.833702Z",
     "start_time": "2025-08-07T00:26:58.826380Z"
    }
   },
   "cell_type": "code",
   "source": [
    "import os\n",
    "os.environ[\"HADOOP_HOME\"] = \"C:\\\\hadoop\"\n",
    "os.environ[\"hadoop.home.dir\"] = \"C:\\\\hadoop\"\n",
    "os.environ[\"PATH\"] += os.pathsep + \"C:\\\\hadoop\\\\bin\"\n",
    "\n",
    "from scripts.util import check_csv_column_order_consistency\n",
    "from pyspark.shell import spark"
   ],
   "id": "747773613e199165",
   "outputs": [],
   "execution_count": 7
  },
  {
   "metadata": {},
   "cell_type": "markdown",
   "source": "### in the next cell I check to make sure that the columns in all csv files have the same order.",
   "id": "a09ee3a6e83d8b7a"
  },
  {
   "metadata": {
    "ExecuteTime": {
     "end_time": "2025-08-07T00:27:00.988470Z",
     "start_time": "2025-08-07T00:26:58.847875Z"
    }
   },
   "cell_type": "code",
   "source": [
    "\n",
    "check_csv_column_order_consistency(\"../data/sales_data/*.csv\", spark)"
   ],
   "id": "d97aab21eea30dce",
   "outputs": [
    {
     "data": {
      "text/plain": [
       "<IPython.core.display.Markdown object>"
      ],
      "text/markdown": "`2025-08-07 02:26:58,850 — INFO — Checking column order consistency for files in: ../data/sales_data/*.csv`"
     },
     "metadata": {},
     "output_type": "display_data"
    },
    {
     "data": {
      "text/plain": [
       "<IPython.core.display.Markdown object>"
      ],
      "text/markdown": "`2025-08-07 02:27:00,982 — INFO — All CSV files have the same column order.`"
     },
     "metadata": {},
     "output_type": "display_data"
    },
    {
     "data": {
      "text/plain": [
       "True"
      ]
     },
     "execution_count": 8,
     "metadata": {},
     "output_type": "execute_result"
    }
   ],
   "execution_count": 8
  }
 ],
 "metadata": {
  "kernelspec": {
   "display_name": "Python 3",
   "language": "python",
   "name": "python3"
  },
  "language_info": {
   "codemirror_mode": {
    "name": "ipython",
    "version": 2
   },
   "file_extension": ".py",
   "mimetype": "text/x-python",
   "name": "python",
   "nbconvert_exporter": "python",
   "pygments_lexer": "ipython2",
   "version": "2.7.6"
  }
 },
 "nbformat": 4,
 "nbformat_minor": 5
}
